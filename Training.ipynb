{
 "cells": [
  {
   "cell_type": "code",
   "execution_count": 2,
   "metadata": {},
   "outputs": [
    {
     "name": "stdout",
     "output_type": "stream",
     "text": [
      "Mon Feb  1 16:50:04 2021       \n",
      "+-----------------------------------------------------------------------------+\n",
      "| NVIDIA-SMI 460.32.03    Driver Version: 460.32.03    CUDA Version: 11.2     |\n",
      "|-------------------------------+----------------------+----------------------+\n",
      "| GPU  Name        Persistence-M| Bus-Id        Disp.A | Volatile Uncorr. ECC |\n",
      "| Fan  Temp  Perf  Pwr:Usage/Cap|         Memory-Usage | GPU-Util  Compute M. |\n",
      "|                               |                      |               MIG M. |\n",
      "|===============================+======================+======================|\n",
      "|   0  GeForce GTX 108...  Off  | 00000000:18:00.0 Off |                  N/A |\n",
      "| 70%   80C    P2    99W / 250W |  10809MiB / 11178MiB |    100%      Default |\n",
      "|                               |                      |                  N/A |\n",
      "+-------------------------------+----------------------+----------------------+\n",
      "|   1  GeForce GTX 108...  Off  | 00000000:3B:00.0 Off |                  N/A |\n",
      "|  0%   47C    P8    10W / 250W |   2453MiB / 11178MiB |      0%      Default |\n",
      "|                               |                      |                  N/A |\n",
      "+-------------------------------+----------------------+----------------------+\n",
      "|   2  GeForce GTX 108...  Off  | 00000000:5E:00.0 Off |                  N/A |\n",
      "|  0%   39C    P8     9W / 250W |   5887MiB / 11178MiB |      0%      Default |\n",
      "|                               |                      |                  N/A |\n",
      "+-------------------------------+----------------------+----------------------+\n",
      "|   3  GeForce GTX 108...  Off  | 00000000:86:00.0 Off |                  N/A |\n",
      "| 68%   80C    P2   249W / 250W |  10809MiB / 11178MiB |     78%      Default |\n",
      "|                               |                      |                  N/A |\n",
      "+-------------------------------+----------------------+----------------------+\n",
      "                                                                               \n",
      "+-----------------------------------------------------------------------------+\n",
      "| Processes:                                                                  |\n",
      "|  GPU   GI   CI        PID   Type   Process name                  GPU Memory |\n",
      "|        ID   ID                                                   Usage      |\n",
      "|=============================================================================|\n",
      "|    0   N/A  N/A      1730      G   /usr/lib/xorg/Xorg                  4MiB |\n",
      "|    0   N/A  N/A    905721      C   python                          10801MiB |\n",
      "|    1   N/A  N/A      1730      G   /usr/lib/xorg/Xorg                  4MiB |\n",
      "|    1   N/A  N/A    577506      C   ...khov/anaconda3/bin/python      991MiB |\n",
      "|    1   N/A  N/A   1449170      C   ...a3/envs/common/bin/python      713MiB |\n",
      "|    1   N/A  N/A   2155081      C   ...khov/anaconda3/bin/python      741MiB |\n",
      "|    2   N/A  N/A      1730      G   /usr/lib/xorg/Xorg                  4MiB |\n",
      "|    2   N/A  N/A    364307      C   ...a3/envs/common/bin/python      711MiB |\n",
      "|    2   N/A  N/A    956198      C   ...a3/envs/common/bin/python      669MiB |\n",
      "|    2   N/A  N/A   1751671      C   ...a3/envs/common/bin/python     1471MiB |\n",
      "|    2   N/A  N/A   2813905      C   ...a3/envs/common/bin/python     2227MiB |\n",
      "|    2   N/A  N/A   3154363      C   ...a3/envs/common/bin/python      801MiB |\n",
      "|    3   N/A  N/A      1730      G   /usr/lib/xorg/Xorg                  4MiB |\n",
      "|    3   N/A  N/A   1982195      C   python                          10801MiB |\n",
      "+-----------------------------------------------------------------------------+\n"
     ]
    }
   ],
   "source": [
    "!nvidia-smi"
   ]
  },
  {
   "cell_type": "code",
   "execution_count": 3,
   "metadata": {},
   "outputs": [],
   "source": [
    "# from models import Encoder, Decoder, Img2Caption\n",
    "from dataset import CocoDataset"
   ]
  },
  {
   "cell_type": "code",
   "execution_count": 3,
   "metadata": {},
   "outputs": [],
   "source": [
    "import torchvision\n",
    "import torch\n",
    "import torch.nn as nn\n",
    "import torch.nn.functional as F\n",
    "from torch.utils.data import DataLoader\n",
    "\n",
    "import numpy as np\n",
    "\n",
    "from pycocotools.coco import COCO\n",
    "from nltk.translate.bleu_score import sentence_bleu\n",
    "\n",
    "import tqdm\n",
    "import matplotlib.pyplot as plt\n",
    "from IPython.display import clear_output\n",
    "\n",
    "from transformers import DebertaTokenizer, DebertaModel"
   ]
  },
  {
   "cell_type": "code",
   "execution_count": 4,
   "metadata": {},
   "outputs": [],
   "source": [
    "import os\n",
    "os.environ[\"CUDA_VISIBLE_DEVICES\"]=\"1\"\n",
    "torch.cuda.empty_cache()"
   ]
  },
  {
   "cell_type": "code",
   "execution_count": 6,
   "metadata": {},
   "outputs": [
    {
     "data": {
      "text/plain": [
       "14117"
      ]
     },
     "execution_count": 6,
     "metadata": {},
     "output_type": "execute_result"
    }
   ],
   "source": [
    "# training images\n",
    "len(os.listdir(\"images_train/\"))"
   ]
  },
  {
   "cell_type": "code",
   "execution_count": 7,
   "metadata": {},
   "outputs": [
    {
     "data": {
      "text/plain": [
       "8376"
      ]
     },
     "execution_count": 7,
     "metadata": {},
     "output_type": "execute_result"
    }
   ],
   "source": [
    "# val images\n",
    "len(os.listdir(\"images_val/\"))"
   ]
  },
  {
   "cell_type": "code",
   "execution_count": 6,
   "metadata": {},
   "outputs": [
    {
     "data": {
      "text/plain": [
       "['.idea',\n",
       " '.ipynb_checkpoints',\n",
       " 'annotations',\n",
       " 'best_val_model.pt',\n",
       " 'dataset.py',\n",
       " 'dump_1.pt',\n",
       " 'images_train',\n",
       " 'images_val',\n",
       " 'kot.jpg',\n",
       " 'models.py',\n",
       " 'Training.ipynb',\n",
       " 'Usage example.ipynb',\n",
       " '__pycache__']"
      ]
     },
     "execution_count": 6,
     "metadata": {},
     "output_type": "execute_result"
    }
   ],
   "source": [
    "# current dir\n",
    "os.listdir()"
   ]
  },
  {
   "cell_type": "code",
   "execution_count": 8,
   "metadata": {},
   "outputs": [],
   "source": [
    "# coco = COCO(annotation_file=\"annotations/captions_train2014.json\")\n",
    "# coco.download(\"images_train\", imgIds=[coco.anns[key]['image_id'] for key in coco.anns])"
   ]
  },
  {
   "cell_type": "code",
   "execution_count": 9,
   "metadata": {},
   "outputs": [],
   "source": [
    "# coco = COCO(annotation_file=\"annotations/captions_val2014.json\")\n",
    "# coco.download(\"images_val\", imgIds=[coco.anns[key]['image_id'] for key in coco.anns])"
   ]
  },
  {
   "cell_type": "code",
   "execution_count": 10,
   "metadata": {},
   "outputs": [],
   "source": [
    "tokenizer = DebertaTokenizer.from_pretrained(\"microsoft/deberta-base\")"
   ]
  },
  {
   "cell_type": "code",
   "execution_count": 11,
   "metadata": {},
   "outputs": [],
   "source": [
    "device = \"cuda\""
   ]
  },
  {
   "cell_type": "code",
   "execution_count": 12,
   "metadata": {},
   "outputs": [],
   "source": [
    "def collate_fn(data):\n",
    "    images, captions = zip(*data)\n",
    "\n",
    "    images = torch.stack(images, 0)\n",
    "    max_len = max([len(caption) for caption in captions])\n",
    "    targets = torch.zeros(len(captions), max_len).long()\n",
    "    for i, caption in enumerate(captions):\n",
    "        for j in range(len(caption)):\n",
    "            targets[i, j] = caption[j]\n",
    "  \n",
    "    return images.to(device), targets.to(device)"
   ]
  },
  {
   "cell_type": "code",
   "execution_count": 13,
   "metadata": {
    "scrolled": true
   },
   "outputs": [
    {
     "name": "stdout",
     "output_type": "stream",
     "text": [
      "loading annotations into memory...\n",
      "Done (t=0.82s)\n",
      "creating index...\n",
      "index created!\n",
      "loading annotations into memory...\n",
      "Done (t=0.37s)\n",
      "creating index...\n",
      "index created!\n"
     ]
    }
   ],
   "source": [
    "batch_size = 16\n",
    "train_data = CocoDataset(\"images_train/\", \"annotations/captions_train2014.json\", tokenizer)\n",
    "test_data = CocoDataset(\"images_val/\", \"annotations/captions_val2014.json\", tokenizer)\n",
    "\n",
    "train_loader = DataLoader(train_data, \n",
    "                          batch_size=batch_size, \n",
    "                          collate_fn=collate_fn)\n",
    "test_loader = DataLoader(test_data, \n",
    "                          batch_size=batch_size, \n",
    "                          collate_fn=collate_fn)"
   ]
  },
  {
   "cell_type": "code",
   "execution_count": 14,
   "metadata": {},
   "outputs": [],
   "source": [
    "class Decoder(nn.Module):\n",
    "    def __init__(self, vocab_size, embedding_dim, encoder_dim, attention_dim, hidden_size, dropout):\n",
    "        super().__init__()\n",
    "        self.encoder_dim = encoder_dim\n",
    "        self.embedding_dim = embedding_dim\n",
    "        self.hidden_size = hidden_size\n",
    "        \n",
    "        self.attention_dim = attention_dim\n",
    "        self.vocab_size = vocab_size\n",
    "\n",
    "        self.attention = nn.Linear(encoder_dim+embedding_dim, attention_dim)\n",
    "\n",
    "        self.rnn = nn.GRU(attention_dim, hidden_size) \n",
    "\n",
    "        self.out = nn.Linear(hidden_size+attention_dim, vocab_size)\n",
    "\n",
    "        self.dropout = nn.Dropout(dropout)\n",
    "\n",
    "    def forward(self, inputs, hidden, encoder_outputs):\n",
    "        concated_inputs = torch.cat((inputs, encoder_outputs.unsqueeze(1)), dim=2)\n",
    "        attented = self.dropout(torch.tanh(self.attention(concated_inputs))).permute(1, 0, 2)\n",
    "\n",
    "        output, hidden = self.rnn(attented, hidden)\n",
    "        concated_outputs = F.relu(torch.cat((output, attented), dim=2))\n",
    "        out = self.out(self.dropout(concated_outputs))\n",
    "\n",
    "        return out, hidden\n",
    "\n",
    "    def initHidden(self, bs):\n",
    "        return torch.zeros(1, bs, self.hidden_size, device=device)"
   ]
  },
  {
   "cell_type": "code",
   "execution_count": 15,
   "metadata": {},
   "outputs": [],
   "source": [
    "class Img2Caption(nn.Module):\n",
    "    def __init__(self, encoder, decoder, gptModel):\n",
    "        super().__init__()\n",
    "\n",
    "        self.encoder = encoder\n",
    "        self.decoder = decoder\n",
    "        self.gpt = gptModel\n",
    "        \n",
    "    def forward(self, image, caption, teacher_forcing_ratio=0.5):\n",
    "#         caption: bs х max_len\n",
    "        batch_size = caption.shape[0]\n",
    "        max_len = caption.shape[1]\n",
    "        trg_vocab_size = self.decoder.vocab_size\n",
    "        outputs = torch.zeros(max_len, batch_size, trg_vocab_size)\n",
    "        encoder_outputs = self.encoder(image)\n",
    "        caption = gptModel(caption).last_hidden_state\n",
    "        \n",
    "        first_input = caption[:, 0].unsqueeze(1)\n",
    "        hidden = decoder.initHidden(first_input.shape[0])\n",
    "\n",
    "        for t in range(1, max_len):\n",
    "            output, hidden = self.decoder(first_input, hidden, encoder_outputs)\n",
    "            outputs[t] = output\n",
    "\n",
    "            teacher_force = np.random.random() < teacher_forcing_ratio\n",
    "            if teacher_force:\n",
    "                first_input = caption[:, t].unsqueeze(1)\n",
    "            else:    \n",
    "                first_input = self.gpt(torch.argmax(output, dim=2)).last_hidden_state.permute(1, 0, 2)\n",
    "         \n",
    "        return outputs"
   ]
  },
  {
   "cell_type": "code",
   "execution_count": 16,
   "metadata": {},
   "outputs": [],
   "source": [
    "encoder_dim = 512\n",
    "model_conv=torchvision.models.resnet101(pretrained=True)\n",
    "model_conv.fc = nn.Linear(in_features=2048, out_features=encoder_dim)\n",
    "\n",
    "for i, pair in enumerate(model_conv.named_children()):\n",
    "    _, child = pair\n",
    "    if len(list((model_conv.named_children()))) - i > 3:\n",
    "        for _, params in child.named_parameters():\n",
    "            params.requires_grad = False\n",
    "model_conv = model_conv.to(device)       "
   ]
  },
  {
   "cell_type": "code",
   "execution_count": 17,
   "metadata": {},
   "outputs": [
    {
     "name": "stderr",
     "output_type": "stream",
     "text": [
      "Some weights of the model checkpoint at microsoft/deberta-base were not used when initializing DebertaModel: ['deberta.embeddings.position_embeddings.weight']\n",
      "- This IS expected if you are initializing DebertaModel from the checkpoint of a model trained on another task or with another architecture (e.g. initializing a BertForSequenceClassification model from a BertForPreTraining model).\n",
      "- This IS NOT expected if you are initializing DebertaModel from the checkpoint of a model that you expect to be exactly identical (initializing a BertForSequenceClassification model from a BertForSequenceClassification model).\n"
     ]
    }
   ],
   "source": [
    "# vocab_size, embedding_dim, encoder_dim, attention_dim, hidden_size, decoder_dim, dropout\n",
    "decoder = Decoder(tokenizer.vocab_size, 768, encoder_dim, 256, 256, 0.2).to(device)\n",
    "gptModel = DebertaModel.from_pretrained('microsoft/deberta-base').to(device)\n",
    "\n",
    "model = Img2Caption(model_conv, decoder, gptModel).to(device)\n",
    "\n",
    "criterion = nn.CrossEntropyLoss()\n",
    "optimizer = torch.optim.Adam(model.parameters(), lr=0.0001)"
   ]
  },
  {
   "cell_type": "code",
   "execution_count": 18,
   "metadata": {},
   "outputs": [],
   "source": [
    "def decode_captions(captions):\n",
    "    value = tokenizer.decode(captions)\n",
    "    print(value)\n",
    "    return value\n",
    "\n",
    "def calculate_bleu(captions, targets):\n",
    "    captions = torch.argmax(captions.permute(1, 0, 2), axis=2)\n",
    "    cum_bleu = 0\n",
    "    for i in range(len(captions)):\n",
    "        cum_bleu += sentence_bleu(\n",
    "        [decode_captions(targets[i]).split()],\n",
    "         decode_captions(captions[i]).split()  \n",
    "        )\n",
    "    print(cum_bleu)\n",
    "    return cum_bleu / len(captions)"
   ]
  },
  {
   "cell_type": "code",
   "execution_count": null,
   "metadata": {},
   "outputs": [
    {
     "data": {
      "image/png": "[encoded data removed]",
      "text/plain": [
       "<Figure size 864x576 with 2 Axes>"
      ]
     },
     "metadata": {
      "needs_background": "light"
     },
     "output_type": "display_data"
    },
    {
     "name": "stdout",
     "output_type": "stream",
     "text": [
      "\n"
     ]
    },
    {
     "data": {
      "application/vnd.jupyter.widget-view+json": {
       "model_id": "34141f616efc4cbc8a60b15f5c558f5d",
       "version_major": 2,
       "version_minor": 0
      },
      "text/plain": [
       "HBox(children=(HTML(value=''), FloatProgress(value=0.0, max=883.0), HTML(value='')))"
      ]
     },
     "metadata": {},
     "output_type": "display_data"
    }
   ],
   "source": [
    "%matplotlib inline\n",
    "model.train()\n",
    "torch.cuda.empty_cache()\n",
    "\n",
    "logging_freq = 512\n",
    "\n",
    "\n",
    "max_loss = np.inf\n",
    "\n",
    "train_loss_accum = 0\n",
    "history = []\n",
    "val_bleu_history = []\n",
    "val_loss_history = []\n",
    "for epoch in range(20):\n",
    "    for i, batch in enumerate(tqdm.notebook.tqdm(train_loader)):\n",
    "\n",
    "        images, captions = batch\n",
    "\n",
    "        optimizer.zero_grad()\n",
    "        output = model(images, captions, teacher_forcing_ratio=1/np.log(2+epoch))\n",
    "        loss = criterion(output.permute(1, 0, 2).reshape(-1, tokenizer.vocab_size).cpu(), captions.view(-1).cpu())\n",
    "        loss.backward()\n",
    "        torch.nn.utils.clip_grad_norm_(model.parameters(), 1)\n",
    "\n",
    "        optimizer.step()\n",
    "        train_loss_accum += loss \n",
    "        if (i+1)%logging_freq==0:\n",
    "            history.append(train_loss_accum / logging_freq)\n",
    "            train_loss_accum = 0 \n",
    "\n",
    "            loss_accum = 0\n",
    "            bleu_accum = 0\n",
    "            for test_batch in tqdm.notebook.tqdm(test_loader):\n",
    "                images, captions = test_batch\n",
    "                output = model(images, captions, teacher_forcing_ratio=1)\n",
    "                test_loss = criterion(output.permute(1, 0, 2).reshape(-1, tokenizer.vocab_size).cpu(), captions.view(-1).cpu())\n",
    "                loss_accum += test_loss.cpu().data.numpy()\n",
    "                bleu_accum += calculate_bleu(output, captions)\n",
    "            val_bleu_history.append(bleu_accum / len(test_loader))\n",
    "            val_loss_history.append(loss_accum / len(test_loader))\n",
    "            \n",
    "            clear_output(True)\n",
    "            fig, ax = plt.subplots(nrows=1, ncols=2, figsize=(12, 8))\n",
    "\n",
    "\n",
    "            ax[0].plot(history, label='train loss')\n",
    "            if val_loss_history is not None:\n",
    "                ax[0].plot(val_loss_history, label='validation loss')\n",
    "                ax[0].set_xlabel(f'Batch / {logging_freq}')\n",
    "            if val_bleu_history is not None:\n",
    "                ax[1].plot(val_bleu_history, label='validation bleu history')\n",
    "                ax[1].set_xlabel(f'Batch / {logging_freq}')\n",
    "                ax[1].set_ylabel('BLEU4')\n",
    "#             plt.legend()\n",
    "            plt.show()\n",
    "            \n",
    "            \n",
    "            if val_loss_history[-1] < max_loss:\n",
    "                max_loss = val_loss_history[-1]\n",
    "                torch.save(model.state_dict(), 'best_val_model.pt')"
   ]
  },
  {
   "cell_type": "code",
   "execution_count": 20,
   "metadata": {},
   "outputs": [
    {
     "name": "stdout",
     "output_type": "stream",
     "text": [
      "A black stove sitting between counters in a kitchen.\n",
      "A kitchen stove with a counters. a.\n",
      "A clean kitchen with a bar and large window.\n",
      "A kitchen kitchen with a bar. a..\n",
      "A tile bathroom with a toilet, cabinet, sink, mirror, tub, shower curtain, and towel is shown.\n",
      "A bathroom bathroom with a toilet a a and sink. mirror,. and is.\n",
      "a white kitchen a table and a white refrigerator\n",
      "a kitchen kitchen a a and a a.\n",
      "A man is chopping green peppers with a knife.\n",
      "A man is of a chairs. a.\n",
      "A bike is parked on a bridge without a person.\n",
      "A man is a a a a.. person.\n",
      "A large kitchen with a tiled floor and two refrigerators.\n",
      "A kitchen kitchen with a t a a a two. kitchen.\n",
      "A dog is standing and looking through the threshold into a room with sinks and and a mirror\n",
      "A bathroom is a a looking in a a into a room. and\n",
      "A man stands in the bathroom in front of the sink.\n",
      "A kitchen stands with a bathroom with a the.\n",
      "A bicycle lying on a beach with the sunset in the background.\n",
      "A man lying on a beach on a in a background.\n",
      "An arrangement of utensils sitting outside on a table.\n",
      "An kitchen of a withils in a a a.\n",
      "A newly modeled kitchen with a bicycle poster.\n",
      "A kitchen bathroom with a a kitchen. a\n",
      "Several people are spending time in a park with a jet airliner on the ground in the background\n",
      "Several a are a a in a a on a. a. ground.\n",
      "a police man in uniform is riding a red motorcycle\n",
      "a man man a a is in a a motorcycle.\n",
      "a small plane on an air port run way\n",
      "a man plane on a air. a\n",
      "A bathroom with a large bathtub and a sink.\n",
      "A bathroom with a bathroom bath with a a sink.\n",
      "A person getting ready to board a bus with a man on a bike in front of it.\n",
      "A around a a board a a. a on a in a.\n",
      "A kitchen with lots of counter space next to a window.\n",
      "A kitchen with a with counter a a a.\n",
      "A countertop holding a chicken and a bundt cake.\n",
      "A kitchentop on a a. a..\n",
      "some girls are in a kitchen and one is doing dishes\n",
      "some man are with in kitchen in a doing.\n",
      "a woman in a long coat and her pink umbrella\n",
      "a man in a a flowers on a umbrella\n",
      "A bus has bicycles mounted on the front.\n",
      "A man has a a on a a.\n",
      "A kitchen sink next to a window and an automatic dishwasher.\n",
      "A kitchen sink with a a with. a a.washer\n",
      "There are several people enjoying the fresh air and sunshine in this field. \n",
      "There of several a a the with a a a. this.. \n",
      "A granite counter top with a sink is centered in a kitchen with a stove, cabinets, microwave, and a framed vintage advertisement for bicycles on the wall in the background.\n",
      "A kitchen counter kitchen kitchen a kitchen. a in a kitchen. stove. microwave and a field. for. on the wall in the kitchen.\n",
      "A bathroom with a mirror and decorations on the wall.\n",
      "A bathroom with a kitchen and a and a wall.\n",
      "A bathroom sink beneath a very large mirror reflecting a roll of toilet paper.\n",
      "A bathroom sink and a very a a a a bathroom of a a.\n",
      "A large group of bicycles are in a row.\n",
      "A bathroom group a a are a a..\n",
      "Three people sitting on a wooden bench eating plates of food.\n",
      "Three people sitting in a wooden a a. of a.\n",
      "A man is asleep with a colt on a mattress.\n",
      "A man is on a a a in a a.\n",
      "Three men standing around a kitchen having a drink together.\n",
      "Three man standing in a kitchen a a a together.\n",
      "A large bathroom with tile flooring and white fixtures\n",
      "A bathroom bathroom with a floor. a\n",
      "1.0122869976420739\n"
     ]
    },
    {
     "data": {
      "text/plain": [
       "0.03163396867631481"
      ]
     },
     "execution_count": 20,
     "metadata": {},
     "output_type": "execute_result"
    }
   ],
   "source": [
    "# bleu on train_split\n",
    "calculate_bleu(output, captions)"
   ]
  },
  {
   "cell_type": "markdown",
   "metadata": {},
   "source": [
    "### Отчет"
   ]
  },
  {
   "cell_type": "markdown",
   "metadata": {},
   "source": [
    "О том что есть в этом ноутбуке:\n",
    "1. Что-то явно случилось с валидационной выборкой - почему-то на ней запредельный bleu4, а на трейне bleu4 в несколько разм меньше. Кажется, что в дальнейшем стоит удалить данные и скачать их заново.\n",
    "2. Модель недообучена: я долго дебажил вывод модельки, а resnet101 + deberta + декодер занимают 8гб видеопамяти - спустя неделю меня выгнали с кластера.\n",
    "3. Файлы датасета и модели отделно вынесены в dataset.py/models.py (здесь оставлены для удобства проверки).\n",
    "\n",
    "О том чего нет в ноутбуке:\n",
    "1. Изначально пробовал bpe токенизацию из youtokentome, не особо получилось\n",
    "2. Пробовал w2v/обычный берт эмбединги - была бага в препроцессинге текста, поэтому с ними результат не зафиксировал\n",
    "3. Пробовал прикрутить \"умный\" attention с разных слоев resnet - не очень получилось\n",
    "4. Пример капшининга одной функцией в ноутбуке Usage example"
   ]
  },
  {
   "cell_type": "code",
   "execution_count": null,
   "metadata": {},
   "outputs": [],
   "source": []
  }
 ],
 "metadata": {
  "kernelspec": {
   "display_name": "Python 3",
   "language": "python",
   "name": "python3"
  },
  "language_info": {
   "codemirror_mode": {
    "name": "ipython",
    "version": 3
   },
   "file_extension": ".py",
   "mimetype": "text/x-python",
   "name": "python",
   "nbconvert_exporter": "python",
   "pygments_lexer": "ipython3",
   "version": "3.8.5"
  }
 },
 "nbformat": 4,
 "nbformat_minor": 2
}
